{
  "cells": [
    {
      "cell_type": "code",
      "execution_count": 1,
      "metadata": {
        "id": "HjFRcUykaFgb"
      },
      "outputs": [],
      "source": [
        "import tensorflow as tf\n",
        "import numpy as np\n",
        "import pandas as pd\n",
        "import matplotlib.pyplot as plt"
      ]
    },
    {
      "cell_type": "code",
      "execution_count": 2,
      "metadata": {
        "id": "h49H-yO8a9m7"
      },
      "outputs": [],
      "source": [
        "def read_csv(file_path):\n",
        "    df = pd.read_csv(file_path)\n",
        "    X = np.array(df[\"sentence\"])\n",
        "    Y = np.array(df[\"label\"], dtype=int)\n",
        "    return X, Y\n"
      ]
    },
    {
      "cell_type": "code",
      "execution_count": 3,
      "metadata": {
        "id": "rBJ8Ckr2PtFm"
      },
      "outputs": [],
      "source": [
        "X_train, Y_train = read_csv(\"/content/dataset/train.csv\")\n",
        "X_test, Y_test = read_csv(\"/content/dataset/test.csv\")"
      ]
    },
    {
      "cell_type": "code",
      "execution_count": 4,
      "metadata": {
        "colab": {
          "base_uri": "https://localhost:8080/"
        },
        "id": "pTebtiu0UcTV",
        "outputId": "7de0fd91-557b-4fad-9219-0bcc6fd6ac8b"
      },
      "outputs": [
        {
          "name": "stdout",
          "output_type": "stream",
          "text": [
            "candy is life  2\n"
          ]
        }
      ],
      "source": [
        "index = 24\n",
        "print(X_train[index], Y_train[index])"
      ]
    },
    {
      "cell_type": "code",
      "execution_count": 5,
      "metadata": {
        "id": "VKEnYK02WdBE"
      },
      "outputs": [],
      "source": [
        "def label_to_emoji(label):\n",
        "   emojies = [\"💖\",\"⚾\",\"😄\",\"😔\",\"🍴\"]\n",
        "   return emojies[label]"
      ]
    },
    {
      "cell_type": "code",
      "execution_count": 6,
      "metadata": {
        "colab": {
          "base_uri": "https://localhost:8080/"
        },
        "id": "nbBmcoTaaqEC",
        "outputId": "c0bf9155-5dff-42c3-88c9-7e02d15df0e4"
      },
      "outputs": [
        {
          "data": {
            "text/plain": [
              "('candy is life ', '😄')"
            ]
          },
          "execution_count": 6,
          "metadata": {},
          "output_type": "execute_result"
        }
      ],
      "source": [
        "index = 24\n",
        "X_train[index], label_to_emoji(Y_train[index])"
      ]
    },
    {
      "cell_type": "code",
      "execution_count": 7,
      "metadata": {
        "colab": {
          "base_uri": "https://localhost:8080/"
        },
        "id": "GX7kouFCa9QY",
        "outputId": "9e2d134a-92be-4ad8-f2e8-434afa7a5849"
      },
      "outputs": [
        {
          "name": "stdout",
          "output_type": "stream",
          "text": [
            "[0 1 2 3 4]\n",
            "[22 19 38 36 17]\n"
          ]
        }
      ],
      "source": [
        "# Number of labels\n",
        "unique, counts = np.unique(Y_train, return_counts=True)\n",
        "print(unique)\n",
        "print(counts)"
      ]
    },
    {
      "cell_type": "code",
      "execution_count": 8,
      "metadata": {
        "colab": {
          "base_uri": "https://localhost:8080/",
          "height": 36
        },
        "id": "tGCmK4A1b-j2",
        "outputId": "d84c97f4-6a52-4bb5-b146-d2afd775225d"
      },
      "outputs": [
        {
          "data": {
            "application/vnd.google.colaboratory.intrinsic+json": {
              "type": "string"
            },
            "text/plain": [
              "'I am so impressed by your dedication to this project'"
            ]
          },
          "execution_count": 8,
          "metadata": {},
          "output_type": "execute_result"
        }
      ],
      "source": [
        "# The longest sentence\n",
        "max(X_train, key=len)"
      ]
    },
    {
      "cell_type": "code",
      "execution_count": 9,
      "metadata": {
        "colab": {
          "base_uri": "https://localhost:8080/"
        },
        "id": "n__HAkl-b-Uc",
        "outputId": "328f145b-71e6-4b8d-af25-309ebb38ea0a"
      },
      "outputs": [
        {
          "data": {
            "text/plain": [
              "10"
            ]
          },
          "execution_count": 9,
          "metadata": {},
          "output_type": "execute_result"
        }
      ],
      "source": [
        "max_len = len(max(X_train, key=len).split(\" \"))\n",
        "max_len"
      ]
    },
    {
      "cell_type": "code",
      "execution_count": null,
      "metadata": {
        "colab": {
          "base_uri": "https://localhost:8080/"
        },
        "id": "_ajEbohieee3",
        "outputId": "2f560ec4-cb13-4c6d-a16d-c08dc3eb5955"
      },
      "outputs": [],
      "source": [
        "!wget https://nlp.stanford.edu/data/glove.6B.zip"
      ]
    },
    {
      "cell_type": "code",
      "execution_count": 11,
      "metadata": {
        "id": "HJCXpnXBkaSX"
      },
      "outputs": [],
      "source": [
        "!unzip -q glove.6B.zip -d glove.6B"
      ]
    },
    {
      "cell_type": "code",
      "execution_count": 12,
      "metadata": {
        "id": "8Rh9l0jkk9Po"
      },
      "outputs": [],
      "source": [
        "f = open(\"/content/glove.6B/glove.6B.300d.txt\", encoding=\"utf-8\")\n",
        "\n",
        "word_vectors = {}\n",
        "for line in f:\n",
        "  line = line.strip().split()\n",
        "  word = line[0]\n",
        "  vector =np.array(line[1:], dtype=np.float64)\n",
        "  word_vectors[word] = vector\n"
      ]
    },
    {
      "cell_type": "code",
      "execution_count": null,
      "metadata": {
        "id": "wN2zs1l8qTkf"
      },
      "outputs": [],
      "source": [
        "word_vectors[\"khadijeh\"]"
      ]
    },
    {
      "cell_type": "code",
      "execution_count": 14,
      "metadata": {
        "id": "0LkzCoSMrILU"
      },
      "outputs": [],
      "source": [
        "def sentence_to_avg(sentence):\n",
        "\n",
        "  try:\n",
        "      sentence = sentence.lower()\n",
        "      words = sentence.strip().split(\" \")\n",
        "      sum_vectors = np.zeros((300, ))\n",
        "      for word in words:\n",
        "        sum_vectors += word_vectors[word]\n",
        "\n",
        "      avg_vectors = sum_vectors / len(words)\n",
        "      return avg_vectors\n",
        "\n",
        "  except:\n",
        "    print(sentence)\n",
        "    return None\n",
        "\n"
      ]
    },
    {
      "cell_type": "code",
      "execution_count": null,
      "metadata": {
        "id": "yYx5P2LrviAP"
      },
      "outputs": [],
      "source": [
        "sentence_to_avg(\"i love programming too much\")"
      ]
    },
    {
      "cell_type": "code",
      "execution_count": 16,
      "metadata": {
        "colab": {
          "base_uri": "https://localhost:8080/"
        },
        "id": "fJ4OwWkM_Esb",
        "outputId": "30592fbf-c6f1-4e82-ad12-87ad900a4002"
      },
      "outputs": [
        {
          "data": {
            "text/plain": [
              "(132, 300)"
            ]
          },
          "execution_count": 16,
          "metadata": {},
          "output_type": "execute_result"
        }
      ],
      "source": [
        "X_train_avg = []\n",
        "for x_train in X_train:\n",
        "  X_train_avg.append(sentence_to_avg(x_train))\n",
        "\n",
        "X_train_avg = np.array(X_train_avg)\n",
        "\n",
        "X_train_avg.shape"
      ]
    },
    {
      "cell_type": "code",
      "execution_count": null,
      "metadata": {
        "id": "Wy9PI11-33Oo"
      },
      "outputs": [],
      "source": [
        "Y_train_one_hot = tf.keras.utils.to_categorical(Y_train, num_classes=5)\n",
        "Y_train_one_hot"
      ]
    },
    {
      "cell_type": "code",
      "execution_count": 18,
      "metadata": {
        "id": "7Ip9jp9q5Mhc"
      },
      "outputs": [],
      "source": [
        "model = tf.keras.models.Sequential([\n",
        "    tf.keras.layers.Dense(5, input_shape=(300,), activation=\"softmax\")\n",
        "])"
      ]
    },
    {
      "cell_type": "code",
      "execution_count": 19,
      "metadata": {
        "id": "fFer6loH8tDo"
      },
      "outputs": [],
      "source": [
        "model.compile(\n",
        "    optimizer=tf.keras.optimizers.Adam(),\n",
        "    loss=\"categorical_crossentropy\",\n",
        "    metrics=['accuracy']\n",
        ")"
      ]
    },
    {
      "cell_type": "code",
      "execution_count": 20,
      "metadata": {
        "colab": {
          "base_uri": "https://localhost:8080/"
        },
        "id": "ZWToJKV196CB",
        "outputId": "ba5e95fd-d585-481f-cd2a-bc9eb751f7ba"
      },
      "outputs": [
        {
          "name": "stdout",
          "output_type": "stream",
          "text": [
            "Epoch 1/280\n",
            "5/5 [==============================] - 2s 13ms/step - loss: 1.5792 - accuracy: 0.3106\n",
            "Epoch 2/280\n",
            "5/5 [==============================] - 0s 4ms/step - loss: 1.5264 - accuracy: 0.3182\n",
            "Epoch 3/280\n",
            "5/5 [==============================] - 0s 3ms/step - loss: 1.4867 - accuracy: 0.3182\n",
            "Epoch 4/280\n",
            "5/5 [==============================] - 0s 3ms/step - loss: 1.4511 - accuracy: 0.3864\n",
            "Epoch 5/280\n",
            "5/5 [==============================] - 0s 4ms/step - loss: 1.4189 - accuracy: 0.3939\n",
            "Epoch 6/280\n",
            "5/5 [==============================] - 0s 3ms/step - loss: 1.3900 - accuracy: 0.4091\n",
            "Epoch 7/280\n",
            "5/5 [==============================] - 0s 4ms/step - loss: 1.3623 - accuracy: 0.4621\n",
            "Epoch 8/280\n",
            "5/5 [==============================] - 0s 3ms/step - loss: 1.3360 - accuracy: 0.5152\n",
            "Epoch 9/280\n",
            "5/5 [==============================] - 0s 3ms/step - loss: 1.3116 - accuracy: 0.4924\n",
            "Epoch 10/280\n",
            "5/5 [==============================] - 0s 4ms/step - loss: 1.2892 - accuracy: 0.5227\n",
            "Epoch 11/280\n",
            "5/5 [==============================] - 0s 4ms/step - loss: 1.2671 - accuracy: 0.5758\n",
            "Epoch 12/280\n",
            "5/5 [==============================] - 0s 5ms/step - loss: 1.2452 - accuracy: 0.6061\n",
            "Epoch 13/280\n",
            "5/5 [==============================] - 0s 5ms/step - loss: 1.2244 - accuracy: 0.6288\n",
            "Epoch 14/280\n",
            "5/5 [==============================] - 0s 3ms/step - loss: 1.2033 - accuracy: 0.6515\n",
            "Epoch 15/280\n",
            "5/5 [==============================] - 0s 3ms/step - loss: 1.1837 - accuracy: 0.6591\n",
            "Epoch 16/280\n",
            "5/5 [==============================] - 0s 3ms/step - loss: 1.1645 - accuracy: 0.6894\n",
            "Epoch 17/280\n",
            "5/5 [==============================] - 0s 4ms/step - loss: 1.1449 - accuracy: 0.7273\n",
            "Epoch 18/280\n",
            "5/5 [==============================] - 0s 4ms/step - loss: 1.1268 - accuracy: 0.7273\n",
            "Epoch 19/280\n",
            "5/5 [==============================] - 0s 4ms/step - loss: 1.1088 - accuracy: 0.7273\n",
            "Epoch 20/280\n",
            "5/5 [==============================] - 0s 4ms/step - loss: 1.0922 - accuracy: 0.7348\n",
            "Epoch 21/280\n",
            "5/5 [==============================] - 0s 4ms/step - loss: 1.0746 - accuracy: 0.7348\n",
            "Epoch 22/280\n",
            "5/5 [==============================] - 0s 5ms/step - loss: 1.0590 - accuracy: 0.7348\n",
            "Epoch 23/280\n",
            "5/5 [==============================] - 0s 4ms/step - loss: 1.0432 - accuracy: 0.7348\n",
            "Epoch 24/280\n",
            "5/5 [==============================] - 0s 5ms/step - loss: 1.0272 - accuracy: 0.7348\n",
            "Epoch 25/280\n",
            "5/5 [==============================] - 0s 4ms/step - loss: 1.0117 - accuracy: 0.7500\n",
            "Epoch 26/280\n",
            "5/5 [==============================] - 0s 4ms/step - loss: 0.9974 - accuracy: 0.7576\n",
            "Epoch 27/280\n",
            "5/5 [==============================] - 0s 4ms/step - loss: 0.9835 - accuracy: 0.7576\n",
            "Epoch 28/280\n",
            "5/5 [==============================] - 0s 4ms/step - loss: 0.9697 - accuracy: 0.7652\n",
            "Epoch 29/280\n",
            "5/5 [==============================] - 0s 4ms/step - loss: 0.9564 - accuracy: 0.7652\n",
            "Epoch 30/280\n",
            "5/5 [==============================] - 0s 4ms/step - loss: 0.9440 - accuracy: 0.7652\n",
            "Epoch 31/280\n",
            "5/5 [==============================] - 0s 3ms/step - loss: 0.9324 - accuracy: 0.7803\n",
            "Epoch 32/280\n",
            "5/5 [==============================] - 0s 3ms/step - loss: 0.9205 - accuracy: 0.7955\n",
            "Epoch 33/280\n",
            "5/5 [==============================] - 0s 3ms/step - loss: 0.9089 - accuracy: 0.8182\n",
            "Epoch 34/280\n",
            "5/5 [==============================] - 0s 3ms/step - loss: 0.8972 - accuracy: 0.8333\n",
            "Epoch 35/280\n",
            "5/5 [==============================] - 0s 3ms/step - loss: 0.8860 - accuracy: 0.8409\n",
            "Epoch 36/280\n",
            "5/5 [==============================] - 0s 4ms/step - loss: 0.8746 - accuracy: 0.8333\n",
            "Epoch 37/280\n",
            "5/5 [==============================] - 0s 3ms/step - loss: 0.8642 - accuracy: 0.8409\n",
            "Epoch 38/280\n",
            "5/5 [==============================] - 0s 3ms/step - loss: 0.8531 - accuracy: 0.8409\n",
            "Epoch 39/280\n",
            "5/5 [==============================] - 0s 4ms/step - loss: 0.8440 - accuracy: 0.8561\n",
            "Epoch 40/280\n",
            "5/5 [==============================] - 0s 4ms/step - loss: 0.8339 - accuracy: 0.8561\n",
            "Epoch 41/280\n",
            "5/5 [==============================] - 0s 4ms/step - loss: 0.8230 - accuracy: 0.8636\n",
            "Epoch 42/280\n",
            "5/5 [==============================] - 0s 4ms/step - loss: 0.8145 - accuracy: 0.8636\n",
            "Epoch 43/280\n",
            "5/5 [==============================] - 0s 4ms/step - loss: 0.8048 - accuracy: 0.8712\n",
            "Epoch 44/280\n",
            "5/5 [==============================] - 0s 4ms/step - loss: 0.7957 - accuracy: 0.8712\n",
            "Epoch 45/280\n",
            "5/5 [==============================] - 0s 4ms/step - loss: 0.7864 - accuracy: 0.8712\n",
            "Epoch 46/280\n",
            "5/5 [==============================] - 0s 4ms/step - loss: 0.7771 - accuracy: 0.8712\n",
            "Epoch 47/280\n",
            "5/5 [==============================] - 0s 4ms/step - loss: 0.7684 - accuracy: 0.8636\n",
            "Epoch 48/280\n",
            "5/5 [==============================] - 0s 3ms/step - loss: 0.7600 - accuracy: 0.8636\n",
            "Epoch 49/280\n",
            "5/5 [==============================] - 0s 4ms/step - loss: 0.7519 - accuracy: 0.8712\n",
            "Epoch 50/280\n",
            "5/5 [==============================] - 0s 3ms/step - loss: 0.7447 - accuracy: 0.8712\n",
            "Epoch 51/280\n",
            "5/5 [==============================] - 0s 4ms/step - loss: 0.7371 - accuracy: 0.8636\n",
            "Epoch 52/280\n",
            "5/5 [==============================] - 0s 3ms/step - loss: 0.7289 - accuracy: 0.8712\n",
            "Epoch 53/280\n",
            "5/5 [==============================] - 0s 4ms/step - loss: 0.7224 - accuracy: 0.8636\n",
            "Epoch 54/280\n",
            "5/5 [==============================] - 0s 3ms/step - loss: 0.7151 - accuracy: 0.8712\n",
            "Epoch 55/280\n",
            "5/5 [==============================] - 0s 5ms/step - loss: 0.7093 - accuracy: 0.8712\n",
            "Epoch 56/280\n",
            "5/5 [==============================] - 0s 3ms/step - loss: 0.7025 - accuracy: 0.8788\n",
            "Epoch 57/280\n",
            "5/5 [==============================] - 0s 4ms/step - loss: 0.6956 - accuracy: 0.8788\n",
            "Epoch 58/280\n",
            "5/5 [==============================] - 0s 4ms/step - loss: 0.6889 - accuracy: 0.8788\n",
            "Epoch 59/280\n",
            "5/5 [==============================] - 0s 4ms/step - loss: 0.6816 - accuracy: 0.8788\n",
            "Epoch 60/280\n",
            "5/5 [==============================] - 0s 3ms/step - loss: 0.6744 - accuracy: 0.8788\n",
            "Epoch 61/280\n",
            "5/5 [==============================] - 0s 4ms/step - loss: 0.6671 - accuracy: 0.8864\n",
            "Epoch 62/280\n",
            "5/5 [==============================] - 0s 3ms/step - loss: 0.6612 - accuracy: 0.8864\n",
            "Epoch 63/280\n",
            "5/5 [==============================] - 0s 4ms/step - loss: 0.6550 - accuracy: 0.9091\n",
            "Epoch 64/280\n",
            "5/5 [==============================] - 0s 3ms/step - loss: 0.6491 - accuracy: 0.9015\n",
            "Epoch 65/280\n",
            "5/5 [==============================] - 0s 4ms/step - loss: 0.6437 - accuracy: 0.8939\n",
            "Epoch 66/280\n",
            "5/5 [==============================] - 0s 4ms/step - loss: 0.6388 - accuracy: 0.9015\n",
            "Epoch 67/280\n",
            "5/5 [==============================] - 0s 4ms/step - loss: 0.6335 - accuracy: 0.9015\n",
            "Epoch 68/280\n",
            "5/5 [==============================] - 0s 4ms/step - loss: 0.6282 - accuracy: 0.9015\n",
            "Epoch 69/280\n",
            "5/5 [==============================] - 0s 4ms/step - loss: 0.6214 - accuracy: 0.8939\n",
            "Epoch 70/280\n",
            "5/5 [==============================] - 0s 4ms/step - loss: 0.6165 - accuracy: 0.9015\n",
            "Epoch 71/280\n",
            "5/5 [==============================] - 0s 4ms/step - loss: 0.6116 - accuracy: 0.8939\n",
            "Epoch 72/280\n",
            "5/5 [==============================] - 0s 4ms/step - loss: 0.6066 - accuracy: 0.8939\n",
            "Epoch 73/280\n",
            "5/5 [==============================] - 0s 3ms/step - loss: 0.6018 - accuracy: 0.8939\n",
            "Epoch 74/280\n",
            "5/5 [==============================] - 0s 4ms/step - loss: 0.5965 - accuracy: 0.8788\n",
            "Epoch 75/280\n",
            "5/5 [==============================] - 0s 4ms/step - loss: 0.5913 - accuracy: 0.8864\n",
            "Epoch 76/280\n",
            "5/5 [==============================] - 0s 4ms/step - loss: 0.5875 - accuracy: 0.8939\n",
            "Epoch 77/280\n",
            "5/5 [==============================] - 0s 4ms/step - loss: 0.5825 - accuracy: 0.9015\n",
            "Epoch 78/280\n",
            "5/5 [==============================] - 0s 4ms/step - loss: 0.5768 - accuracy: 0.9015\n",
            "Epoch 79/280\n",
            "5/5 [==============================] - 0s 3ms/step - loss: 0.5710 - accuracy: 0.9091\n",
            "Epoch 80/280\n",
            "5/5 [==============================] - 0s 3ms/step - loss: 0.5661 - accuracy: 0.9242\n",
            "Epoch 81/280\n",
            "5/5 [==============================] - 0s 3ms/step - loss: 0.5612 - accuracy: 0.9167\n",
            "Epoch 82/280\n",
            "5/5 [==============================] - 0s 4ms/step - loss: 0.5564 - accuracy: 0.9167\n",
            "Epoch 83/280\n",
            "5/5 [==============================] - 0s 4ms/step - loss: 0.5517 - accuracy: 0.9167\n",
            "Epoch 84/280\n",
            "5/5 [==============================] - 0s 4ms/step - loss: 0.5475 - accuracy: 0.9167\n",
            "Epoch 85/280\n",
            "5/5 [==============================] - 0s 4ms/step - loss: 0.5430 - accuracy: 0.9167\n",
            "Epoch 86/280\n",
            "5/5 [==============================] - 0s 4ms/step - loss: 0.5398 - accuracy: 0.9167\n",
            "Epoch 87/280\n",
            "5/5 [==============================] - 0s 4ms/step - loss: 0.5357 - accuracy: 0.9167\n",
            "Epoch 88/280\n",
            "5/5 [==============================] - 0s 3ms/step - loss: 0.5317 - accuracy: 0.9167\n",
            "Epoch 89/280\n",
            "5/5 [==============================] - 0s 4ms/step - loss: 0.5275 - accuracy: 0.9167\n",
            "Epoch 90/280\n",
            "5/5 [==============================] - 0s 4ms/step - loss: 0.5237 - accuracy: 0.9167\n",
            "Epoch 91/280\n",
            "5/5 [==============================] - 0s 3ms/step - loss: 0.5201 - accuracy: 0.9167\n",
            "Epoch 92/280\n",
            "5/5 [==============================] - 0s 4ms/step - loss: 0.5156 - accuracy: 0.9167\n",
            "Epoch 93/280\n",
            "5/5 [==============================] - 0s 4ms/step - loss: 0.5118 - accuracy: 0.9167\n",
            "Epoch 94/280\n",
            "5/5 [==============================] - 0s 4ms/step - loss: 0.5078 - accuracy: 0.9167\n",
            "Epoch 95/280\n",
            "5/5 [==============================] - 0s 4ms/step - loss: 0.5038 - accuracy: 0.9167\n",
            "Epoch 96/280\n",
            "5/5 [==============================] - 0s 4ms/step - loss: 0.5004 - accuracy: 0.9242\n",
            "Epoch 97/280\n",
            "5/5 [==============================] - 0s 5ms/step - loss: 0.4968 - accuracy: 0.9242\n",
            "Epoch 98/280\n",
            "5/5 [==============================] - 0s 5ms/step - loss: 0.4945 - accuracy: 0.9318\n",
            "Epoch 99/280\n",
            "5/5 [==============================] - 0s 4ms/step - loss: 0.4916 - accuracy: 0.9318\n",
            "Epoch 100/280\n",
            "5/5 [==============================] - 0s 4ms/step - loss: 0.4884 - accuracy: 0.9318\n",
            "Epoch 101/280\n",
            "5/5 [==============================] - 0s 4ms/step - loss: 0.4851 - accuracy: 0.9242\n",
            "Epoch 102/280\n",
            "5/5 [==============================] - 0s 4ms/step - loss: 0.4812 - accuracy: 0.9242\n",
            "Epoch 103/280\n",
            "5/5 [==============================] - 0s 4ms/step - loss: 0.4770 - accuracy: 0.9318\n",
            "Epoch 104/280\n",
            "5/5 [==============================] - 0s 3ms/step - loss: 0.4733 - accuracy: 0.9394\n",
            "Epoch 105/280\n",
            "5/5 [==============================] - 0s 3ms/step - loss: 0.4705 - accuracy: 0.9318\n",
            "Epoch 106/280\n",
            "5/5 [==============================] - 0s 3ms/step - loss: 0.4676 - accuracy: 0.9318\n",
            "Epoch 107/280\n",
            "5/5 [==============================] - 0s 3ms/step - loss: 0.4643 - accuracy: 0.9318\n",
            "Epoch 108/280\n",
            "5/5 [==============================] - 0s 4ms/step - loss: 0.4610 - accuracy: 0.9242\n",
            "Epoch 109/280\n",
            "5/5 [==============================] - 0s 5ms/step - loss: 0.4575 - accuracy: 0.9318\n",
            "Epoch 110/280\n",
            "5/5 [==============================] - 0s 4ms/step - loss: 0.4554 - accuracy: 0.9242\n",
            "Epoch 111/280\n",
            "5/5 [==============================] - 0s 4ms/step - loss: 0.4528 - accuracy: 0.9242\n",
            "Epoch 112/280\n",
            "5/5 [==============================] - 0s 4ms/step - loss: 0.4505 - accuracy: 0.9318\n",
            "Epoch 113/280\n",
            "5/5 [==============================] - 0s 3ms/step - loss: 0.4474 - accuracy: 0.9318\n",
            "Epoch 114/280\n",
            "5/5 [==============================] - 0s 3ms/step - loss: 0.4446 - accuracy: 0.9318\n",
            "Epoch 115/280\n",
            "5/5 [==============================] - 0s 4ms/step - loss: 0.4416 - accuracy: 0.9318\n",
            "Epoch 116/280\n",
            "5/5 [==============================] - 0s 4ms/step - loss: 0.4384 - accuracy: 0.9318\n",
            "Epoch 117/280\n",
            "5/5 [==============================] - 0s 4ms/step - loss: 0.4359 - accuracy: 0.9394\n",
            "Epoch 118/280\n",
            "5/5 [==============================] - 0s 4ms/step - loss: 0.4320 - accuracy: 0.9394\n",
            "Epoch 119/280\n",
            "5/5 [==============================] - 0s 4ms/step - loss: 0.4293 - accuracy: 0.9470\n",
            "Epoch 120/280\n",
            "5/5 [==============================] - 0s 4ms/step - loss: 0.4269 - accuracy: 0.9394\n",
            "Epoch 121/280\n",
            "5/5 [==============================] - 0s 3ms/step - loss: 0.4239 - accuracy: 0.9394\n",
            "Epoch 122/280\n",
            "5/5 [==============================] - 0s 4ms/step - loss: 0.4210 - accuracy: 0.9394\n",
            "Epoch 123/280\n",
            "5/5 [==============================] - 0s 4ms/step - loss: 0.4185 - accuracy: 0.9394\n",
            "Epoch 124/280\n",
            "5/5 [==============================] - 0s 4ms/step - loss: 0.4161 - accuracy: 0.9394\n",
            "Epoch 125/280\n",
            "5/5 [==============================] - 0s 3ms/step - loss: 0.4134 - accuracy: 0.9394\n",
            "Epoch 126/280\n",
            "5/5 [==============================] - 0s 4ms/step - loss: 0.4108 - accuracy: 0.9394\n",
            "Epoch 127/280\n",
            "5/5 [==============================] - 0s 4ms/step - loss: 0.4089 - accuracy: 0.9318\n",
            "Epoch 128/280\n",
            "5/5 [==============================] - 0s 4ms/step - loss: 0.4069 - accuracy: 0.9394\n",
            "Epoch 129/280\n",
            "5/5 [==============================] - 0s 4ms/step - loss: 0.4045 - accuracy: 0.9394\n",
            "Epoch 130/280\n",
            "5/5 [==============================] - 0s 4ms/step - loss: 0.4015 - accuracy: 0.9394\n",
            "Epoch 131/280\n",
            "5/5 [==============================] - 0s 3ms/step - loss: 0.3989 - accuracy: 0.9470\n",
            "Epoch 132/280\n",
            "5/5 [==============================] - 0s 3ms/step - loss: 0.3964 - accuracy: 0.9470\n",
            "Epoch 133/280\n",
            "5/5 [==============================] - 0s 3ms/step - loss: 0.3943 - accuracy: 0.9470\n",
            "Epoch 134/280\n",
            "5/5 [==============================] - 0s 3ms/step - loss: 0.3916 - accuracy: 0.9545\n",
            "Epoch 135/280\n",
            "5/5 [==============================] - 0s 4ms/step - loss: 0.3892 - accuracy: 0.9621\n",
            "Epoch 136/280\n",
            "5/5 [==============================] - 0s 4ms/step - loss: 0.3868 - accuracy: 0.9621\n",
            "Epoch 137/280\n",
            "5/5 [==============================] - 0s 4ms/step - loss: 0.3846 - accuracy: 0.9621\n",
            "Epoch 138/280\n",
            "5/5 [==============================] - 0s 4ms/step - loss: 0.3825 - accuracy: 0.9621\n",
            "Epoch 139/280\n",
            "5/5 [==============================] - 0s 4ms/step - loss: 0.3798 - accuracy: 0.9545\n",
            "Epoch 140/280\n",
            "5/5 [==============================] - 0s 5ms/step - loss: 0.3781 - accuracy: 0.9470\n",
            "Epoch 141/280\n",
            "5/5 [==============================] - 0s 4ms/step - loss: 0.3762 - accuracy: 0.9470\n",
            "Epoch 142/280\n",
            "5/5 [==============================] - 0s 4ms/step - loss: 0.3742 - accuracy: 0.9470\n",
            "Epoch 143/280\n",
            "5/5 [==============================] - 0s 4ms/step - loss: 0.3722 - accuracy: 0.9545\n",
            "Epoch 144/280\n",
            "5/5 [==============================] - 0s 4ms/step - loss: 0.3702 - accuracy: 0.9470\n",
            "Epoch 145/280\n",
            "5/5 [==============================] - 0s 3ms/step - loss: 0.3674 - accuracy: 0.9545\n",
            "Epoch 146/280\n",
            "5/5 [==============================] - 0s 3ms/step - loss: 0.3654 - accuracy: 0.9545\n",
            "Epoch 147/280\n",
            "5/5 [==============================] - 0s 4ms/step - loss: 0.3636 - accuracy: 0.9545\n",
            "Epoch 148/280\n",
            "5/5 [==============================] - 0s 4ms/step - loss: 0.3610 - accuracy: 0.9545\n",
            "Epoch 149/280\n",
            "5/5 [==============================] - 0s 4ms/step - loss: 0.3593 - accuracy: 0.9545\n",
            "Epoch 150/280\n",
            "5/5 [==============================] - 0s 4ms/step - loss: 0.3573 - accuracy: 0.9545\n",
            "Epoch 151/280\n",
            "5/5 [==============================] - 0s 4ms/step - loss: 0.3560 - accuracy: 0.9470\n",
            "Epoch 152/280\n",
            "5/5 [==============================] - 0s 4ms/step - loss: 0.3541 - accuracy: 0.9545\n",
            "Epoch 153/280\n",
            "5/5 [==============================] - 0s 4ms/step - loss: 0.3523 - accuracy: 0.9545\n",
            "Epoch 154/280\n",
            "5/5 [==============================] - 0s 4ms/step - loss: 0.3499 - accuracy: 0.9545\n",
            "Epoch 155/280\n",
            "5/5 [==============================] - 0s 3ms/step - loss: 0.3474 - accuracy: 0.9621\n",
            "Epoch 156/280\n",
            "5/5 [==============================] - 0s 4ms/step - loss: 0.3457 - accuracy: 0.9545\n",
            "Epoch 157/280\n",
            "5/5 [==============================] - 0s 5ms/step - loss: 0.3435 - accuracy: 0.9545\n",
            "Epoch 158/280\n",
            "5/5 [==============================] - 0s 3ms/step - loss: 0.3415 - accuracy: 0.9545\n",
            "Epoch 159/280\n",
            "5/5 [==============================] - 0s 4ms/step - loss: 0.3399 - accuracy: 0.9545\n",
            "Epoch 160/280\n",
            "5/5 [==============================] - 0s 3ms/step - loss: 0.3381 - accuracy: 0.9545\n",
            "Epoch 161/280\n",
            "5/5 [==============================] - 0s 4ms/step - loss: 0.3364 - accuracy: 0.9545\n",
            "Epoch 162/280\n",
            "5/5 [==============================] - 0s 4ms/step - loss: 0.3344 - accuracy: 0.9470\n",
            "Epoch 163/280\n",
            "5/5 [==============================] - 0s 4ms/step - loss: 0.3336 - accuracy: 0.9394\n",
            "Epoch 164/280\n",
            "5/5 [==============================] - 0s 4ms/step - loss: 0.3321 - accuracy: 0.9470\n",
            "Epoch 165/280\n",
            "5/5 [==============================] - 0s 3ms/step - loss: 0.3298 - accuracy: 0.9470\n",
            "Epoch 166/280\n",
            "5/5 [==============================] - 0s 4ms/step - loss: 0.3281 - accuracy: 0.9470\n",
            "Epoch 167/280\n",
            "5/5 [==============================] - 0s 4ms/step - loss: 0.3260 - accuracy: 0.9545\n",
            "Epoch 168/280\n",
            "5/5 [==============================] - 0s 4ms/step - loss: 0.3239 - accuracy: 0.9545\n",
            "Epoch 169/280\n",
            "5/5 [==============================] - 0s 4ms/step - loss: 0.3220 - accuracy: 0.9545\n",
            "Epoch 170/280\n",
            "5/5 [==============================] - 0s 4ms/step - loss: 0.3203 - accuracy: 0.9545\n",
            "Epoch 171/280\n",
            "5/5 [==============================] - 0s 4ms/step - loss: 0.3189 - accuracy: 0.9545\n",
            "Epoch 172/280\n",
            "5/5 [==============================] - 0s 4ms/step - loss: 0.3177 - accuracy: 0.9470\n",
            "Epoch 173/280\n",
            "5/5 [==============================] - 0s 4ms/step - loss: 0.3169 - accuracy: 0.9470\n",
            "Epoch 174/280\n",
            "5/5 [==============================] - 0s 4ms/step - loss: 0.3156 - accuracy: 0.9470\n",
            "Epoch 175/280\n",
            "5/5 [==============================] - 0s 4ms/step - loss: 0.3141 - accuracy: 0.9470\n",
            "Epoch 176/280\n",
            "5/5 [==============================] - 0s 4ms/step - loss: 0.3136 - accuracy: 0.9470\n",
            "Epoch 177/280\n",
            "5/5 [==============================] - 0s 4ms/step - loss: 0.3114 - accuracy: 0.9545\n",
            "Epoch 178/280\n",
            "5/5 [==============================] - 0s 3ms/step - loss: 0.3093 - accuracy: 0.9470\n",
            "Epoch 179/280\n",
            "5/5 [==============================] - 0s 3ms/step - loss: 0.3071 - accuracy: 0.9545\n",
            "Epoch 180/280\n",
            "5/5 [==============================] - 0s 4ms/step - loss: 0.3048 - accuracy: 0.9621\n",
            "Epoch 181/280\n",
            "5/5 [==============================] - 0s 5ms/step - loss: 0.3025 - accuracy: 0.9621\n",
            "Epoch 182/280\n",
            "5/5 [==============================] - 0s 4ms/step - loss: 0.3011 - accuracy: 0.9621\n",
            "Epoch 183/280\n",
            "5/5 [==============================] - 0s 4ms/step - loss: 0.2999 - accuracy: 0.9621\n",
            "Epoch 184/280\n",
            "5/5 [==============================] - 0s 4ms/step - loss: 0.2983 - accuracy: 0.9621\n",
            "Epoch 185/280\n",
            "5/5 [==============================] - 0s 4ms/step - loss: 0.2970 - accuracy: 0.9621\n",
            "Epoch 186/280\n",
            "5/5 [==============================] - 0s 4ms/step - loss: 0.2959 - accuracy: 0.9621\n",
            "Epoch 187/280\n",
            "5/5 [==============================] - 0s 4ms/step - loss: 0.2941 - accuracy: 0.9697\n",
            "Epoch 188/280\n",
            "5/5 [==============================] - 0s 4ms/step - loss: 0.2928 - accuracy: 0.9773\n",
            "Epoch 189/280\n",
            "5/5 [==============================] - 0s 4ms/step - loss: 0.2920 - accuracy: 0.9773\n",
            "Epoch 190/280\n",
            "5/5 [==============================] - 0s 4ms/step - loss: 0.2902 - accuracy: 0.9773\n",
            "Epoch 191/280\n",
            "5/5 [==============================] - 0s 4ms/step - loss: 0.2888 - accuracy: 0.9773\n",
            "Epoch 192/280\n",
            "5/5 [==============================] - 0s 4ms/step - loss: 0.2878 - accuracy: 0.9848\n",
            "Epoch 193/280\n",
            "5/5 [==============================] - 0s 4ms/step - loss: 0.2861 - accuracy: 0.9848\n",
            "Epoch 194/280\n",
            "5/5 [==============================] - 0s 4ms/step - loss: 0.2848 - accuracy: 0.9848\n",
            "Epoch 195/280\n",
            "5/5 [==============================] - 0s 4ms/step - loss: 0.2830 - accuracy: 0.9848\n",
            "Epoch 196/280\n",
            "5/5 [==============================] - 0s 4ms/step - loss: 0.2817 - accuracy: 0.9848\n",
            "Epoch 197/280\n",
            "5/5 [==============================] - 0s 4ms/step - loss: 0.2799 - accuracy: 0.9848\n",
            "Epoch 198/280\n",
            "5/5 [==============================] - 0s 4ms/step - loss: 0.2789 - accuracy: 0.9773\n",
            "Epoch 199/280\n",
            "5/5 [==============================] - 0s 4ms/step - loss: 0.2777 - accuracy: 0.9773\n",
            "Epoch 200/280\n",
            "5/5 [==============================] - 0s 4ms/step - loss: 0.2766 - accuracy: 0.9697\n",
            "Epoch 201/280\n",
            "5/5 [==============================] - 0s 4ms/step - loss: 0.2754 - accuracy: 0.9697\n",
            "Epoch 202/280\n",
            "5/5 [==============================] - 0s 4ms/step - loss: 0.2737 - accuracy: 0.9697\n",
            "Epoch 203/280\n",
            "5/5 [==============================] - 0s 4ms/step - loss: 0.2723 - accuracy: 0.9697\n",
            "Epoch 204/280\n",
            "5/5 [==============================] - 0s 4ms/step - loss: 0.2709 - accuracy: 0.9621\n",
            "Epoch 205/280\n",
            "5/5 [==============================] - 0s 4ms/step - loss: 0.2696 - accuracy: 0.9697\n",
            "Epoch 206/280\n",
            "5/5 [==============================] - 0s 4ms/step - loss: 0.2686 - accuracy: 0.9773\n",
            "Epoch 207/280\n",
            "5/5 [==============================] - 0s 4ms/step - loss: 0.2675 - accuracy: 0.9773\n",
            "Epoch 208/280\n",
            "5/5 [==============================] - 0s 4ms/step - loss: 0.2663 - accuracy: 0.9773\n",
            "Epoch 209/280\n",
            "5/5 [==============================] - 0s 4ms/step - loss: 0.2649 - accuracy: 0.9773\n",
            "Epoch 210/280\n",
            "5/5 [==============================] - 0s 4ms/step - loss: 0.2634 - accuracy: 0.9773\n",
            "Epoch 211/280\n",
            "5/5 [==============================] - 0s 5ms/step - loss: 0.2621 - accuracy: 0.9848\n",
            "Epoch 212/280\n",
            "5/5 [==============================] - 0s 4ms/step - loss: 0.2608 - accuracy: 0.9773\n",
            "Epoch 213/280\n",
            "5/5 [==============================] - 0s 5ms/step - loss: 0.2598 - accuracy: 0.9773\n",
            "Epoch 214/280\n",
            "5/5 [==============================] - 0s 6ms/step - loss: 0.2588 - accuracy: 0.9773\n",
            "Epoch 215/280\n",
            "5/5 [==============================] - 0s 4ms/step - loss: 0.2575 - accuracy: 0.9773\n",
            "Epoch 216/280\n",
            "5/5 [==============================] - 0s 4ms/step - loss: 0.2560 - accuracy: 0.9773\n",
            "Epoch 217/280\n",
            "5/5 [==============================] - 0s 4ms/step - loss: 0.2546 - accuracy: 0.9697\n",
            "Epoch 218/280\n",
            "5/5 [==============================] - 0s 5ms/step - loss: 0.2540 - accuracy: 0.9773\n",
            "Epoch 219/280\n",
            "5/5 [==============================] - 0s 4ms/step - loss: 0.2527 - accuracy: 0.9773\n",
            "Epoch 220/280\n",
            "5/5 [==============================] - 0s 5ms/step - loss: 0.2515 - accuracy: 0.9848\n",
            "Epoch 221/280\n",
            "5/5 [==============================] - 0s 7ms/step - loss: 0.2506 - accuracy: 0.9848\n",
            "Epoch 222/280\n",
            "5/5 [==============================] - 0s 4ms/step - loss: 0.2492 - accuracy: 0.9848\n",
            "Epoch 223/280\n",
            "5/5 [==============================] - 0s 4ms/step - loss: 0.2483 - accuracy: 0.9773\n",
            "Epoch 224/280\n",
            "5/5 [==============================] - 0s 4ms/step - loss: 0.2471 - accuracy: 0.9773\n",
            "Epoch 225/280\n",
            "5/5 [==============================] - 0s 4ms/step - loss: 0.2462 - accuracy: 0.9697\n",
            "Epoch 226/280\n",
            "5/5 [==============================] - 0s 4ms/step - loss: 0.2457 - accuracy: 0.9697\n",
            "Epoch 227/280\n",
            "5/5 [==============================] - 0s 4ms/step - loss: 0.2447 - accuracy: 0.9697\n",
            "Epoch 228/280\n",
            "5/5 [==============================] - 0s 5ms/step - loss: 0.2429 - accuracy: 0.9773\n",
            "Epoch 229/280\n",
            "5/5 [==============================] - 0s 4ms/step - loss: 0.2423 - accuracy: 0.9773\n",
            "Epoch 230/280\n",
            "5/5 [==============================] - 0s 4ms/step - loss: 0.2408 - accuracy: 0.9773\n",
            "Epoch 231/280\n",
            "5/5 [==============================] - 0s 4ms/step - loss: 0.2395 - accuracy: 0.9848\n",
            "Epoch 232/280\n",
            "5/5 [==============================] - 0s 4ms/step - loss: 0.2384 - accuracy: 0.9848\n",
            "Epoch 233/280\n",
            "5/5 [==============================] - 0s 4ms/step - loss: 0.2376 - accuracy: 0.9924\n",
            "Epoch 234/280\n",
            "5/5 [==============================] - 0s 4ms/step - loss: 0.2365 - accuracy: 0.9848\n",
            "Epoch 235/280\n",
            "5/5 [==============================] - 0s 4ms/step - loss: 0.2354 - accuracy: 0.9848\n",
            "Epoch 236/280\n",
            "5/5 [==============================] - 0s 4ms/step - loss: 0.2343 - accuracy: 0.9848\n",
            "Epoch 237/280\n",
            "5/5 [==============================] - 0s 4ms/step - loss: 0.2335 - accuracy: 0.9848\n",
            "Epoch 238/280\n",
            "5/5 [==============================] - 0s 5ms/step - loss: 0.2322 - accuracy: 0.9848\n",
            "Epoch 239/280\n",
            "5/5 [==============================] - 0s 4ms/step - loss: 0.2311 - accuracy: 0.9848\n",
            "Epoch 240/280\n",
            "5/5 [==============================] - 0s 4ms/step - loss: 0.2306 - accuracy: 0.9848\n",
            "Epoch 241/280\n",
            "5/5 [==============================] - 0s 4ms/step - loss: 0.2295 - accuracy: 0.9848\n",
            "Epoch 242/280\n",
            "5/5 [==============================] - 0s 4ms/step - loss: 0.2286 - accuracy: 0.9848\n",
            "Epoch 243/280\n",
            "5/5 [==============================] - 0s 4ms/step - loss: 0.2274 - accuracy: 0.9848\n",
            "Epoch 244/280\n",
            "5/5 [==============================] - 0s 5ms/step - loss: 0.2261 - accuracy: 0.9848\n",
            "Epoch 245/280\n",
            "5/5 [==============================] - 0s 4ms/step - loss: 0.2254 - accuracy: 0.9848\n",
            "Epoch 246/280\n",
            "5/5 [==============================] - 0s 4ms/step - loss: 0.2244 - accuracy: 0.9848\n",
            "Epoch 247/280\n",
            "5/5 [==============================] - 0s 4ms/step - loss: 0.2236 - accuracy: 0.9924\n",
            "Epoch 248/280\n",
            "5/5 [==============================] - 0s 4ms/step - loss: 0.2227 - accuracy: 0.9924\n",
            "Epoch 249/280\n",
            "5/5 [==============================] - 0s 4ms/step - loss: 0.2222 - accuracy: 0.9924\n",
            "Epoch 250/280\n",
            "5/5 [==============================] - 0s 4ms/step - loss: 0.2213 - accuracy: 0.9924\n",
            "Epoch 251/280\n",
            "5/5 [==============================] - 0s 5ms/step - loss: 0.2200 - accuracy: 0.9924\n",
            "Epoch 252/280\n",
            "5/5 [==============================] - 0s 5ms/step - loss: 0.2189 - accuracy: 0.9848\n",
            "Epoch 253/280\n",
            "5/5 [==============================] - 0s 4ms/step - loss: 0.2178 - accuracy: 0.9848\n",
            "Epoch 254/280\n",
            "5/5 [==============================] - 0s 4ms/step - loss: 0.2169 - accuracy: 0.9924\n",
            "Epoch 255/280\n",
            "5/5 [==============================] - 0s 4ms/step - loss: 0.2159 - accuracy: 0.9924\n",
            "Epoch 256/280\n",
            "5/5 [==============================] - 0s 4ms/step - loss: 0.2151 - accuracy: 0.9924\n",
            "Epoch 257/280\n",
            "5/5 [==============================] - 0s 4ms/step - loss: 0.2143 - accuracy: 0.9924\n",
            "Epoch 258/280\n",
            "5/5 [==============================] - 0s 4ms/step - loss: 0.2132 - accuracy: 0.9924\n",
            "Epoch 259/280\n",
            "5/5 [==============================] - 0s 4ms/step - loss: 0.2125 - accuracy: 0.9924\n",
            "Epoch 260/280\n",
            "5/5 [==============================] - 0s 4ms/step - loss: 0.2116 - accuracy: 0.9924\n",
            "Epoch 261/280\n",
            "5/5 [==============================] - 0s 4ms/step - loss: 0.2108 - accuracy: 0.9924\n",
            "Epoch 262/280\n",
            "5/5 [==============================] - 0s 6ms/step - loss: 0.2101 - accuracy: 0.9924\n",
            "Epoch 263/280\n",
            "5/5 [==============================] - 0s 5ms/step - loss: 0.2093 - accuracy: 0.9924\n",
            "Epoch 264/280\n",
            "5/5 [==============================] - 0s 5ms/step - loss: 0.2085 - accuracy: 0.9924\n",
            "Epoch 265/280\n",
            "5/5 [==============================] - 0s 4ms/step - loss: 0.2074 - accuracy: 0.9924\n",
            "Epoch 266/280\n",
            "5/5 [==============================] - 0s 4ms/step - loss: 0.2069 - accuracy: 0.9924\n",
            "Epoch 267/280\n",
            "5/5 [==============================] - 0s 4ms/step - loss: 0.2060 - accuracy: 0.9924\n",
            "Epoch 268/280\n",
            "5/5 [==============================] - 0s 4ms/step - loss: 0.2053 - accuracy: 0.9924\n",
            "Epoch 269/280\n",
            "5/5 [==============================] - 0s 4ms/step - loss: 0.2042 - accuracy: 0.9924\n",
            "Epoch 270/280\n",
            "5/5 [==============================] - 0s 3ms/step - loss: 0.2032 - accuracy: 0.9924\n",
            "Epoch 271/280\n",
            "5/5 [==============================] - 0s 3ms/step - loss: 0.2024 - accuracy: 0.9924\n",
            "Epoch 272/280\n",
            "5/5 [==============================] - 0s 3ms/step - loss: 0.2014 - accuracy: 0.9924\n",
            "Epoch 273/280\n",
            "5/5 [==============================] - 0s 4ms/step - loss: 0.2009 - accuracy: 0.9924\n",
            "Epoch 274/280\n",
            "5/5 [==============================] - 0s 4ms/step - loss: 0.2001 - accuracy: 0.9924\n",
            "Epoch 275/280\n",
            "5/5 [==============================] - 0s 4ms/step - loss: 0.1998 - accuracy: 0.9924\n",
            "Epoch 276/280\n",
            "5/5 [==============================] - 0s 4ms/step - loss: 0.1989 - accuracy: 0.9924\n",
            "Epoch 277/280\n",
            "5/5 [==============================] - 0s 4ms/step - loss: 0.1980 - accuracy: 0.9924\n",
            "Epoch 278/280\n",
            "5/5 [==============================] - 0s 3ms/step - loss: 0.1970 - accuracy: 0.9924\n",
            "Epoch 279/280\n",
            "5/5 [==============================] - 0s 4ms/step - loss: 0.1960 - accuracy: 0.9924\n",
            "Epoch 280/280\n",
            "5/5 [==============================] - 0s 4ms/step - loss: 0.1953 - accuracy: 0.9924\n"
          ]
        }
      ],
      "source": [
        "output=model.fit(X_train_avg, Y_train_one_hot, epochs=280)"
      ]
    },
    {
      "cell_type": "code",
      "execution_count": 21,
      "metadata": {
        "colab": {
          "base_uri": "https://localhost:8080/",
          "height": 430
        },
        "id": "MVHXvVWP-aX1",
        "outputId": "4a2c5564-38d7-454e-f696-c4a4f25fd27b"
      },
      "outputs": [
        {
          "data": {
            "image/png": "[encoded data removed]",
            "text/plain": [
              "<Figure size 640x480 with 1 Axes>"
            ]
          },
          "metadata": {},
          "output_type": "display_data"
        }
      ],
      "source": [
        "plt.plot(output.history['accuracy'])\n",
        "plt.show()"
      ]
    },
    {
      "cell_type": "code",
      "execution_count": 22,
      "metadata": {
        "colab": {
          "base_uri": "https://localhost:8080/",
          "height": 430
        },
        "id": "SxqJ8mhnM2ET",
        "outputId": "2de04f57-dc0b-4678-cff4-d78ae9d1d33c"
      },
      "outputs": [
        {
          "data": {
            "image/png": "[encoded data removed]",
            "text/plain": [
              "<Figure size 640x480 with 1 Axes>"
            ]
          },
          "metadata": {},
          "output_type": "display_data"
        }
      ],
      "source": [
        "plt.plot(output.history['loss'])\n",
        "plt.show()"
      ]
    },
    {
      "cell_type": "code",
      "execution_count": 23,
      "metadata": {
        "colab": {
          "base_uri": "https://localhost:8080/",
          "height": 54
        },
        "id": "p6MqqZ1oPraI",
        "outputId": "29cb439f-9dd7-44df-ee18-12a32416eb09"
      },
      "outputs": [
        {
          "name": "stdout",
          "output_type": "stream",
          "text": [
            "1/1 [==============================] - 0s 63ms/step\n"
          ]
        },
        {
          "data": {
            "application/vnd.google.colaboratory.intrinsic+json": {
              "type": "string"
            },
            "text/plain": [
              "'🍴'"
            ]
          },
          "execution_count": 23,
          "metadata": {},
          "output_type": "execute_result"
        }
      ],
      "source": [
        "\n",
        "my_test =\"I like food\"\n",
        "my_test_avg = sentence_to_avg(my_test)\n",
        "my_test_avg = np.array([my_test_avg])\n",
        "result = model.predict(my_test_avg)\n",
        "y_perd = np.argmax(result)\n",
        "label_to_emoji(y_perd)"
      ]
    },
    {
      "cell_type": "code",
      "execution_count": 24,
      "metadata": {
        "colab": {
          "base_uri": "https://localhost:8080/",
          "height": 72
        },
        "id": "sjdl6GpKRaIL",
        "outputId": "7063035e-e9e2-4b10-dce6-290a9bccab1e"
      },
      "outputs": [
        {
          "name": "stdout",
          "output_type": "stream",
          "text": [
            "1/1 [==============================] - 0s 35ms/step\n",
            "We play tennis\n"
          ]
        },
        {
          "data": {
            "application/vnd.google.colaboratory.intrinsic+json": {
              "type": "string"
            },
            "text/plain": [
              "'⚾'"
            ]
          },
          "execution_count": 24,
          "metadata": {},
          "output_type": "execute_result"
        }
      ],
      "source": [
        "my_test =\"We play tennis\"\n",
        "my_test_avg = sentence_to_avg(my_test)\n",
        "my_test_avg = np.array([my_test_avg])\n",
        "result = model.predict(my_test_avg)\n",
        "y_perd = np.argmax(result)\n",
        "print(my_test)\n",
        "label_to_emoji(y_perd)"
      ]
    },
    {
      "cell_type": "code",
      "execution_count": 25,
      "metadata": {
        "colab": {
          "base_uri": "https://localhost:8080/",
          "height": 72
        },
        "id": "E2cDnWbJRowO",
        "outputId": "80cc39be-5de6-4a21-b7df-fdeeec93eb06"
      },
      "outputs": [
        {
          "name": "stdout",
          "output_type": "stream",
          "text": [
            "1/1 [==============================] - 0s 28ms/step\n",
            "I hate you\n"
          ]
        },
        {
          "data": {
            "application/vnd.google.colaboratory.intrinsic+json": {
              "type": "string"
            },
            "text/plain": [
              "'😔'"
            ]
          },
          "execution_count": 25,
          "metadata": {},
          "output_type": "execute_result"
        }
      ],
      "source": [
        "my_test =\"I hate you\"\n",
        "my_test_avg = sentence_to_avg(my_test)\n",
        "my_test_avg = np.array([my_test_avg])\n",
        "result = model.predict(my_test_avg)\n",
        "y_perd = np.argmax(result)\n",
        "print(my_test)\n",
        "label_to_emoji(y_perd)"
      ]
    },
    {
      "cell_type": "code",
      "execution_count": 26,
      "metadata": {
        "colab": {
          "base_uri": "https://localhost:8080/",
          "height": 72
        },
        "id": "w3zE57T6RtGr",
        "outputId": "ebdf547f-8ce5-46b0-a965-94398c9131ff"
      },
      "outputs": [
        {
          "name": "stdout",
          "output_type": "stream",
          "text": [
            "1/1 [==============================] - 0s 26ms/step\n",
            "Thank you very much\n"
          ]
        },
        {
          "data": {
            "application/vnd.google.colaboratory.intrinsic+json": {
              "type": "string"
            },
            "text/plain": [
              "'😄'"
            ]
          },
          "execution_count": 26,
          "metadata": {},
          "output_type": "execute_result"
        }
      ],
      "source": [
        "\n",
        "my_test =\"Thank you very much\"\n",
        "my_test_avg = sentence_to_avg(my_test)\n",
        "my_test_avg = np.array([my_test_avg])\n",
        "result = model.predict(my_test_avg)\n",
        "y_perd = np.argmax(result)\n",
        "print(my_test)\n",
        "label_to_emoji(y_perd)"
      ]
    },
    {
      "cell_type": "code",
      "execution_count": 28,
      "metadata": {
        "colab": {
          "base_uri": "https://localhost:8080/",
          "height": 72
        },
        "id": "ignm-y_6SCH3",
        "outputId": "53bfd989-87ec-40bc-c850-b40dcf1492a1"
      },
      "outputs": [
        {
          "name": "stdout",
          "output_type": "stream",
          "text": [
            "1/1 [==============================] - 0s 28ms/step\n",
            "you made me happy\n"
          ]
        },
        {
          "data": {
            "application/vnd.google.colaboratory.intrinsic+json": {
              "type": "string"
            },
            "text/plain": [
              "'😄'"
            ]
          },
          "execution_count": 28,
          "metadata": {},
          "output_type": "execute_result"
        }
      ],
      "source": [
        "my_test =\"you made me happy\"\n",
        "my_test_avg = sentence_to_avg(my_test)\n",
        "my_test_avg = np.array([my_test_avg])\n",
        "result = model.predict(my_test_avg)\n",
        "y_perd = np.argmax(result)\n",
        "print(my_test)\n",
        "label_to_emoji(y_perd)"
      ]
    },
    {
      "cell_type": "code",
      "execution_count": 29,
      "metadata": {
        "colab": {
          "base_uri": "https://localhost:8080/",
          "height": 72
        },
        "id": "zyFuavnwYrQR",
        "outputId": "dc44f856-956e-4e99-b68e-e5acb5a19649"
      },
      "outputs": [
        {
          "name": "stdout",
          "output_type": "stream",
          "text": [
            "1/1 [==============================] - 0s 29ms/step\n",
            "my honey\n"
          ]
        },
        {
          "data": {
            "application/vnd.google.colaboratory.intrinsic+json": {
              "type": "string"
            },
            "text/plain": [
              "'💖'"
            ]
          },
          "execution_count": 29,
          "metadata": {},
          "output_type": "execute_result"
        }
      ],
      "source": [
        "my_test =\"my honey\"\n",
        "my_test_avg = sentence_to_avg(my_test)\n",
        "my_test_avg = np.array([my_test_avg])\n",
        "result = model.predict(my_test_avg)\n",
        "y_perd = np.argmax(result)\n",
        "print(my_test)\n",
        "label_to_emoji(y_perd)"
      ]
    }
  ],
  "metadata": {
    "accelerator": "GPU",
    "colab": {
      "gpuType": "T4",
      "provenance": []
    },
    "kernelspec": {
      "display_name": "Python 3",
      "name": "python3"
    },
    "language_info": {
      "name": "python"
    }
  },
  "nbformat": 4,
  "nbformat_minor": 0
}
